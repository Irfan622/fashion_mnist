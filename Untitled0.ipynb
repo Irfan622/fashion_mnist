{
  "nbformat": 4,
  "nbformat_minor": 0,
  "metadata": {
    "colab": {
      "name": "Untitled0.ipynb",
      "provenance": [],
      "authorship_tag": "ABX9TyMJa85DndW5w5PrR75OUjEx",
      "include_colab_link": true
    },
    "kernelspec": {
      "name": "python3",
      "display_name": "Python 3"
    },
    "language_info": {
      "name": "python"
    }
  },
  "cells": [
    {
      "cell_type": "markdown",
      "metadata": {
        "id": "view-in-github",
        "colab_type": "text"
      },
      "source": [
        "<a href=\"https://colab.research.google.com/github/akheel143/fashion_mnist/blob/main/Untitled0.ipynb\" target=\"_parent\"><img src=\"https://colab.research.google.com/assets/colab-badge.svg\" alt=\"Open In Colab\"/></a>"
      ]
    },
    {
      "cell_type": "code",
      "metadata": {
        "id": "EbfPMCpRU_dR"
      },
      "source": [
        " from google.colab import files\n",
        " scr=files.upload()"
      ],
      "execution_count": null,
      "outputs": []
    },
    {
      "cell_type": "code",
      "metadata": {
        "id": "NR3NpkTVWPF2"
      },
      "source": [
        "import pandas as pd\n",
        "import numpy as np\n",
        "from scipy import stats\n",
        "data=pd.read_csv('car_fare.TRAIN.csv')\n",
        "data.head()\n",
        "data1=data.drop(['index','fare','cab_provider','time_stamp'],axis=1)\n",
        "#data1['time_stamp']=data1['time_stamp']/\n",
        "destination=pd.get_dummies(data1['destination'])\n",
        "destinations=pd.DataFrame(destination)\n",
        "\n",
        "source=pd.get_dummies(data1['source'])\n",
        "sources=pd.DataFrame(source)\n",
        "\n",
        "cab_provider=pd.get_dummies(data['cab_provider'])\n",
        "cab_provider1=pd.DataFrame(cab_provider)\n",
        "\n",
        "cab_type=pd.get_dummies(data1['cab_type'])\n",
        "data_n=data1.drop(['cab_type','source','destination'],axis=1)\n",
        "y_data=data['fare']\n",
        "y_data=y_data.astype('int64')\n",
        "\n",
        "cab_types=pd.DataFrame(cab_type)\n",
        "data_2=pd.concat([data_n,cab_provider1,sources,destinations,cab_types],axis=1)\n",
        "data2=data_2.dropna(axis=0)\n",
        "data2.shape"
      ],
      "execution_count": null,
      "outputs": []
    },
    {
      "cell_type": "code",
      "metadata": {
        "id": "avy5UxczWQRL"
      },
      "source": [
        "from sklearn.model_selection import train_test_split\n",
        "x_train,x_test,y_train,y_test=train_test_split(data2,y_data,test_size=0.4,random_state=44)\n",
        "from sklearn.preprocessing import StandardScaler\n",
        "scale=StandardScaler()"
      ],
      "execution_count": null,
      "outputs": []
    },
    {
      "cell_type": "code",
      "metadata": {
        "id": "BUr-lg49WT_K"
      },
      "source": [
        "from sklearn.ensemble import RandomForestRegressor\n",
        "rf_reg = RandomForestRegressor(n_estimators=200)\n",
        "rf_reg.fit(x_train, y_train)\n",
        "rf_reg.score(x_train,y_train)"
      ],
      "execution_count": null,
      "outputs": []
    },
    {
      "cell_type": "code",
      "metadata": {
        "id": "v-pp9uL6WZuR"
      },
      "source": [
        "rf_reg.score(x_test,y_test)"
      ],
      "execution_count": null,
      "outputs": []
    }
  ]
}